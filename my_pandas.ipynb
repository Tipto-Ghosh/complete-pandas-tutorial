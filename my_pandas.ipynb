{
 "cells": [
  {
   "cell_type": "code",
   "execution_count": 2,
   "id": "d6e4ec31-fdbc-4a36-a9b5-885ad58ab217",
   "metadata": {},
   "outputs": [],
   "source": [
    "import pandas as pd"
   ]
  },
  {
   "cell_type": "markdown",
   "id": "d2a9fc09-13c5-48d1-bba0-ce59230b9268",
   "metadata": {},
   "source": [
    "### DataFrame"
   ]
  },
  {
   "cell_type": "raw",
   "id": "6a7f6d60-84c1-422a-9e0f-14b60b3b0161",
   "metadata": {},
   "source": [
    "a DataFrame is a 2D labeled data structure like a table in a database or excel sheet.It consists of Rows and Col's which can hold different types of data."
   ]
  },
  {
   "cell_type": "code",
   "execution_count": 3,
   "id": "dc4b7cfb-a1e4-4e6e-beee-2784ac2e00f1",
   "metadata": {},
   "outputs": [],
   "source": [
    "data = [[1,2,3] , [4,5,6] , [7,8,9]]"
   ]
  },
  {
   "cell_type": "code",
   "execution_count": 4,
   "id": "91e6c663-bbf3-4131-8b10-bdf1c4eaa75b",
   "metadata": {},
   "outputs": [],
   "source": [
    "df = pd.DataFrame(data , columns = ['A' , 'B' , 'C'])"
   ]
  },
  {
   "cell_type": "code",
   "execution_count": 5,
   "id": "048a2887-c374-4138-a478-a6d0365c8623",
   "metadata": {},
   "outputs": [
    {
     "name": "stdout",
     "output_type": "stream",
     "text": [
      "   A  B  C\n",
      "0  1  2  3\n",
      "1  4  5  6\n",
      "2  7  8  9\n"
     ]
    }
   ],
   "source": [
    "# head function shows first 5 rows.\n",
    "print(df.head())"
   ]
  },
  {
   "cell_type": "code",
   "execution_count": 6,
   "id": "eea1fd1a-7e92-49ac-bb1d-fc752fb14087",
   "metadata": {},
   "outputs": [
    {
     "name": "stdout",
     "output_type": "stream",
     "text": [
      "      Name  Age         City\n",
      "0    Alice   25     New York\n",
      "1      Bob   30  Los Angeles\n",
      "2  Charlie   35      Chicago\n"
     ]
    }
   ],
   "source": [
    "data = {\n",
    "    \"Name\": [\"Alice\", \"Bob\", \"Charlie\"],\n",
    "    \"Age\": [25, 30, 35],\n",
    "    \"City\": [\"New York\", \"Los Angeles\", \"Chicago\"]\n",
    "}\n",
    "df = pd.DataFrame(data)\n",
    "print(df)"
   ]
  },
  {
   "cell_type": "code",
   "execution_count": 7,
   "id": "d06c1447-a174-4859-b9d0-20d48d19b4f2",
   "metadata": {},
   "outputs": [
    {
     "name": "stdout",
     "output_type": "stream",
     "text": [
      "      Name  Age         City\n",
      "0    Alice   25     New York\n",
      "1      Bob   30  Los Angeles\n",
      "2  Charlie   35      Chicago\n",
      "    Name  Age         City\n",
      "0  Alice   25     New York\n",
      "1    Bob   30  Los Angeles\n"
     ]
    }
   ],
   "source": [
    "# tail method used to show last 5 rows\n",
    "print(df.tail())\n",
    "# To show first n rows df.head(n) also we can do same with tail\n",
    "print(df.head(2)) # this will print first 2 rows"
   ]
  },
  {
   "cell_type": "code",
   "execution_count": 8,
   "id": "5a2cb873-3a94-441f-8587-faef2feefbf5",
   "metadata": {},
   "outputs": [
    {
     "name": "stdout",
     "output_type": "stream",
     "text": [
      "<class 'pandas.core.frame.DataFrame'>\n",
      "RangeIndex: 3 entries, 0 to 2\n",
      "Data columns (total 3 columns):\n",
      " #   Column  Non-Null Count  Dtype \n",
      "---  ------  --------------  ----- \n",
      " 0   Name    3 non-null      object\n",
      " 1   Age     3 non-null      int64 \n",
      " 2   City    3 non-null      object\n",
      "dtypes: int64(1), object(2)\n",
      "memory usage: 204.0+ bytes\n",
      "None\n"
     ]
    }
   ],
   "source": [
    "# info() is used to show a summary of the DataFrame\n",
    "print(df.info())"
   ]
  },
  {
   "cell_type": "code",
   "execution_count": 9,
   "id": "277bc5f2-f807-4326-b6c3-b5ed5ba45ad0",
   "metadata": {},
   "outputs": [
    {
     "name": "stdout",
     "output_type": "stream",
     "text": [
      "        Age\n",
      "count   3.0\n",
      "mean   30.0\n",
      "std     5.0\n",
      "min    25.0\n",
      "25%    27.5\n",
      "50%    30.0\n",
      "75%    32.5\n",
      "max    35.0\n"
     ]
    }
   ],
   "source": [
    "# describe() is used to statistical summary for numerical columns\n",
    "print(df.describe())"
   ]
  },
  {
   "cell_type": "code",
   "execution_count": 10,
   "id": "af26ffd5-3422-4d1d-926c-c372e2a8ec1e",
   "metadata": {},
   "outputs": [
    {
     "name": "stdout",
     "output_type": "stream",
     "text": [
      "RangeIndex(start=0, stop=3, step=1)\n",
      "Index(['Name', 'Age', 'City'], dtype='object')\n"
     ]
    }
   ],
   "source": [
    "# to show all the indecies\n",
    "print(df.index)\n",
    "print(df.columns)"
   ]
  },
  {
   "cell_type": "code",
   "execution_count": 11,
   "id": "a6a589a2-53d0-4666-a00c-78c753f5cd19",
   "metadata": {},
   "outputs": [
    {
     "name": "stdout",
     "output_type": "stream",
     "text": [
      "A    3\n",
      "B    3\n",
      "C    3\n",
      "dtype: int64\n",
      "Unique value in column A:  [1 4 7]\n"
     ]
    }
   ],
   "source": [
    "example = [[1, 2, 3], [4, 5, 6], [7, 8, 9]]\n",
    "df1 = pd.DataFrame(example, columns=['A', 'B', 'C'])\n",
    "# to find how many unique values in each columns\n",
    "print(df1.nunique())\n",
    "# To find all the unique in a specific column\n",
    "print(\"Unique value in column A: \" , df1['A'].unique())"
   ]
  },
  {
   "cell_type": "code",
   "execution_count": 12,
   "id": "dd7421f9-75c2-483d-b06a-b022a7abb271",
   "metadata": {},
   "outputs": [
    {
     "name": "stdout",
     "output_type": "stream",
     "text": [
      "(3, 3)\n"
     ]
    }
   ],
   "source": [
    "# To get the shape of the DataFrame\n",
    "print(df.shape) # (row , col)"
   ]
  },
  {
   "cell_type": "markdown",
   "id": "9747fcaf-8580-496b-a5f7-2781b1f89504",
   "metadata": {},
   "source": [
    "## Loading in DataFrame from Files"
   ]
  },
  {
   "cell_type": "code",
   "execution_count": 15,
   "id": "52c11571-fae3-4f2b-adeb-90adf477e1fe",
   "metadata": {},
   "outputs": [],
   "source": [
    "coffee = pd.read_csv('./warmup-data/coffee.csv')\n",
    "# we also can go to the github file and copy the URL and paste it in quotes to get all the data"
   ]
  },
  {
   "cell_type": "code",
   "execution_count": 16,
   "id": "77614ecc-2aa4-4880-bc2e-e547b4a0048b",
   "metadata": {},
   "outputs": [
    {
     "name": "stdout",
     "output_type": "stream",
     "text": [
      "         Day Coffee Type  Units Sold\n",
      "0     Monday    Espresso          25\n",
      "1     Monday       Latte          15\n",
      "2    Tuesday    Espresso          30\n",
      "3    Tuesday       Latte          20\n",
      "4  Wednesday    Espresso          35\n"
     ]
    }
   ],
   "source": [
    "print(coffee.head())"
   ]
  },
  {
   "cell_type": "code",
   "execution_count": 19,
   "id": "0277f187-3346-4645-a13c-52c1fba5a598",
   "metadata": {},
   "outputs": [],
   "source": [
    "result = pd.read_parquet('./data/results.parquet')"
   ]
  },
  {
   "cell_type": "code",
   "execution_count": null,
   "id": "d42f6a3d-b7b5-47b5-bf94-a393bd81faa2",
   "metadata": {},
   "outputs": [],
   "source": []
  }
 ],
 "metadata": {
  "kernelspec": {
   "display_name": "Python 3 (ipykernel)",
   "language": "python",
   "name": "python3"
  },
  "language_info": {
   "codemirror_mode": {
    "name": "ipython",
    "version": 3
   },
   "file_extension": ".py",
   "mimetype": "text/x-python",
   "name": "python",
   "nbconvert_exporter": "python",
   "pygments_lexer": "ipython3",
   "version": "3.12.7"
  },
  "widgets": {
   "application/vnd.jupyter.widget-state+json": {
    "state": {},
    "version_major": 2,
    "version_minor": 0
   }
  }
 },
 "nbformat": 4,
 "nbformat_minor": 5
}
